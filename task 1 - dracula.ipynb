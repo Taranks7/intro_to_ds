{
 "cells": [
  {
   "cell_type": "markdown",
   "metadata": {},
   "source": [
    "# Pride, Prejudice and Vampires\n",
    "\n",
    "If you squint your eyes and look sideways, this exercise is a little like the\n",
    "classic [Pride and Prejudice and\n",
    "Zombies](https://en.wikipedia.org/wiki/Pride_and_Prejudice_and_Zombies).  OK,\n",
    "it's not as classic as the original book, but still, a classic in its own way."
   ]
  },
  {
   "cell_type": "markdown",
   "metadata": {},
   "source": [
    "For this exercise, you are going to adapt the original [Literary\n",
    "Characters][litchar] notebook so that, instead of analyzing the text of \"Pride and\n",
    "Prejudice\", it analyzes the text of\n",
    "[Dracula](https://en.wikipedia.org/wiki/Dracula) by Bram Stoker.\n",
    "\n",
    "[litchar]: https://matthew-brett.github.io/cfd2020/intro/Literary_Characters.html\n",
    "\n",
    "You can find the full text of Bram Stoker's Dracula at\n",
    "<http://www.gutenberg.org/ebooks/345.txt.utf-8>."
   ]
  },
  {
   "cell_type": "markdown",
   "metadata": {},
   "source": [
    "## Don't worry about the details\n",
    "\n",
    "The exercise asks you to edit the code in the original notebook, but, like the\n",
    "original notebook, we do not expect you to fully understand this code.  You\n",
    "will learn many aspects of how this code works over the rest of the course."
   ]
  },
  {
   "cell_type": "markdown",
   "metadata": {},
   "source": [
    "## The task\n",
    "\n",
    "Below, you will see the code cells from the original Literary Characters\n",
    "notebook.  Your task is to edit these code cells so the notebook analyzes\n",
    "\"Dracula\" instead of \"Pride and Prejudice\"."
   ]
  },
  {
   "cell_type": "markdown",
   "metadata": {},
   "source": [
    "## The initial warmup stuff - just run this cell\n",
    "\n",
    "The cell below loads in some libraries we will use.  Don't worry about the\n",
    "details of this cell, just type shift with Enter to **run** the cell.\n",
    "\n",
    "Make sure you have run the cell.  When you have run the cell, you should see a\n",
    "number in the `In [ ]` text at the left hand side of the cell.  For example,\n",
    "you might see `In [1]`, meaning that this is the first cell you have run."
   ]
  },
  {
   "cell_type": "code",
   "execution_count": 1,
   "metadata": {
    "tags": [
     "hide-cell"
    ]
   },
   "outputs": [],
   "source": [
    "# Just run this cell.\n",
    "# The standard set of libraries we need.\n",
    "import numpy as np\n",
    "import matplotlib.pyplot as plt\n",
    "%matplotlib inline\n",
    "\n",
    "# Make plots look a little bit more fancy.\n",
    "plt.style.use('fivethirtyeight')\n",
    "\n",
    "# The standard library for data in tables.\n",
    "import pandas as pd\n",
    "\n",
    "# A tiny function to read a file directly from a URL\n",
    "from urllib.request import urlopen\n",
    "\n",
    "def read_url(url):\n",
    "    return urlopen(url).read().decode()"
   ]
  },
  {
   "cell_type": "markdown",
   "metadata": {},
   "source": [
    "## Change the URL to point to Bram Stoker's Dracula\n",
    "\n",
    "In the cell below, replace this text:\n",
    "\n",
    "```\n",
    "book_url = 'http://www.gutenberg.org/ebooks/42671.txt.utf-8'\n",
    "```\n",
    "\n",
    "with:\n",
    "\n",
    "```\n",
    "book_url = 'http://www.gutenberg.org/ebooks/345.txt.utf-8'\n",
    "```\n",
    "\n",
    "Type shift with Enter to run the cell below.  This will read the text of\n",
    "\"Dracula\" into the computer memory, instead of the text of \"Pride and\n",
    "Prejudice\"."
   ]
  },
  {
   "cell_type": "code",
   "execution_count": 2,
   "metadata": {},
   "outputs": [
    {
     "name": "stdout",
     "output_type": "stream",
     "text": [
      "﻿The Project Gutenberg eBook, Pride and Prejudice, by Jane Austen, Edited\r\n",
      "by R. W. (Robert William) Chapman\r\n",
      "\r\n",
      "\r\n",
      "This eBook is for the use of anyone anywhere at no cost and with\r\n",
      "almost no restrictions whatsoever.  You may copy it, give it away or\r\n",
      "re-use it under the terms of the Project Gutenberg License included\r\n",
      "with this eBook or online at www.gutenberg.org\r\n",
      "\r\n",
      "\r\n",
      "\r\n",
      "\r\n",
      "\r\n",
      "Title: Pride and Prejudice\r\n",
      "\r\n",
      "\r\n",
      "Author: Jane Austen\r\n",
      "\r\n",
      "Editor: R. W. (Robert William) Chapman\r\n",
      "\r\n",
      "Release Date: May 9, 2013 \n"
     ]
    }
   ],
   "source": [
    "# Read the book text.\n",
    "book_url = 'http://www.gutenberg.org/ebooks/42671.txt.utf-8'\n",
    "book_text = read_url(book_url)\n",
    "# Show the first 500 characters\n",
    "print(book_text[:500])"
   ]
  },
  {
   "cell_type": "markdown",
   "metadata": {},
   "source": [
    "Look at the text that Python prints.  Make sure it's the first 500 characters\n",
    "of \"Dracula\" and not \"Pride and Prejudice\".  If you the text is from \"Dracula\",\n",
    "the first line printed above should be \"The Project Gutenberg EBook of Dracula,\n",
    "by Bram Stoker\".\n",
    "\n",
    "If the text printed is still from \"Pride and Prejudice\", go back and check you\n",
    "have changed the URL, as above, and that you have run the cell reading in the\n",
    "text."
   ]
  },
  {
   "cell_type": "markdown",
   "metadata": {},
   "source": [
    "## Split the book text into chapters\n",
    "\n",
    "Run this code cell (Shift-Enter) to split the text into chapters:"
   ]
  },
  {
   "cell_type": "code",
   "execution_count": 3,
   "metadata": {},
   "outputs": [],
   "source": [
    "# Just run this cell.\n",
    "# Break the text into Chapters\n",
    "book_chapters = book_text.split('CHAPTER ')\n",
    "# Drop the first \"Chapter\" - it's the Project Gutenberg header\n",
    "book_chapters = book_chapters[1:]"
   ]
  },
  {
   "cell_type": "markdown",
   "metadata": {},
   "source": [
    "## Count how many times each character name occurs\n",
    "\n",
    "Oops, sorry for the accidental pun about \"count\".\n",
    "\n",
    "The next task is to change the character names from those in \"Pride and\n",
    "Prejudice\", to those in \"Dracula\".\n",
    "\n",
    "We are going to look for these character names:\n",
    "\n",
    "* Count (for Count Dracula),\n",
    "* Harker (for Jonathan Harker, the hero),\n",
    "* Mina (for Mina Murray, Harker's fiancé),\n",
    "* Seward (for John Seward, Harker's friend),\n",
    "* Helsing (for Abraham Van Helsing, Seward's teacher, and all-round expert),\n",
    "* Quincey (for Quincey Morris, an American cowboy and explorer).\n",
    "\n",
    "I know, only the female and the American characters have first names, I can\n",
    "only apologize on behalf of Mr Stoker.  And Jane Austen, actually.  But hey.\n",
    "\n",
    "In the cell below, replace `'Elizabeth'` with `'Count'`, so the first few lines\n",
    "of the cell go from this (the original \"Pride and Prejudice\" version):\n",
    "\n",
    "```\n",
    "# Count how many times the characters appear in each chapter.\n",
    "counts = pd.DataFrame.from_dict({\n",
    "        'Elizabeth': np.char.count(alice_chapters, 'Elizabeth'),\n",
    "```\n",
    "\n",
    "to this (the \"Dracula\" version):\n",
    "\n",
    "```\n",
    "# Count how many times the characters appear in each chapter.\n",
    "counts = pd.DataFrame.from_dict({\n",
    "        'Count': np.char.count(alice_chapters, 'Count'),\n",
    "```\n",
    "\n",
    "Notice I replaced `'Elizabeth'` twice, once at the beginning and once at the\n",
    "end of the line.\n",
    "\n",
    "Now continue replacing:\n",
    "\n",
    "* `'Darcy'` with `'Harker'`\n",
    "* `'Lydia'` with `'Mina'`\n",
    "* `'Wickham'` with `'Seward'`\n",
    "* `'Bingley'` with `'Helsing'`\n",
    "* `'Jane'` with `'Quincey'`\n",
    "\n",
    "Here is the code cell you need to change:"
   ]
  },
  {
   "cell_type": "code",
   "execution_count": 4,
   "metadata": {},
   "outputs": [
    {
     "data": {
      "text/html": [
       "<div>\n",
       "<style scoped>\n",
       "    .dataframe tbody tr th:only-of-type {\n",
       "        vertical-align: middle;\n",
       "    }\n",
       "\n",
       "    .dataframe tbody tr th {\n",
       "        vertical-align: top;\n",
       "    }\n",
       "\n",
       "    .dataframe thead th {\n",
       "        text-align: right;\n",
       "    }\n",
       "</style>\n",
       "<table border=\"1\" class=\"dataframe\">\n",
       "  <thead>\n",
       "    <tr style=\"text-align: right;\">\n",
       "      <th></th>\n",
       "      <th>Elizabeth</th>\n",
       "      <th>Darcy</th>\n",
       "      <th>Lydia</th>\n",
       "      <th>Wickham</th>\n",
       "      <th>Bingley</th>\n",
       "      <th>Jane</th>\n",
       "    </tr>\n",
       "  </thead>\n",
       "  <tbody>\n",
       "    <tr>\n",
       "      <th>0</th>\n",
       "      <td>0</td>\n",
       "      <td>0</td>\n",
       "      <td>1</td>\n",
       "      <td>0</td>\n",
       "      <td>4</td>\n",
       "      <td>1</td>\n",
       "    </tr>\n",
       "    <tr>\n",
       "      <th>1</th>\n",
       "      <td>1</td>\n",
       "      <td>0</td>\n",
       "      <td>2</td>\n",
       "      <td>0</td>\n",
       "      <td>7</td>\n",
       "      <td>0</td>\n",
       "    </tr>\n",
       "    <tr>\n",
       "      <th>2</th>\n",
       "      <td>4</td>\n",
       "      <td>7</td>\n",
       "      <td>1</td>\n",
       "      <td>0</td>\n",
       "      <td>16</td>\n",
       "      <td>5</td>\n",
       "    </tr>\n",
       "    <tr>\n",
       "      <th>3</th>\n",
       "      <td>3</td>\n",
       "      <td>7</td>\n",
       "      <td>0</td>\n",
       "      <td>0</td>\n",
       "      <td>11</td>\n",
       "      <td>1</td>\n",
       "    </tr>\n",
       "    <tr>\n",
       "      <th>4</th>\n",
       "      <td>2</td>\n",
       "      <td>3</td>\n",
       "      <td>0</td>\n",
       "      <td>0</td>\n",
       "      <td>2</td>\n",
       "      <td>3</td>\n",
       "    </tr>\n",
       "  </tbody>\n",
       "</table>\n",
       "</div>"
      ],
      "text/plain": [
       "   Elizabeth  Darcy  Lydia  Wickham  Bingley  Jane\n",
       "0          0      0      1        0        4     1\n",
       "1          1      0      2        0        7     0\n",
       "2          4      7      1        0       16     5\n",
       "3          3      7      0        0       11     1\n",
       "4          2      3      0        0        2     3"
      ]
     },
     "execution_count": 4,
     "metadata": {},
     "output_type": "execute_result"
    }
   ],
   "source": [
    "# Count how many times the characters appear in each chapter.\n",
    "# Change this cell to look for the Dracula names.\n",
    "counts = pd.DataFrame.from_dict({\n",
    "        'Elizabeth': np.char.count(book_chapters, 'Elizabeth'),\n",
    "        'Darcy': np.char.count(book_chapters, 'Darcy'),\n",
    "        'Lydia': np.char.count(book_chapters, 'Lydia'),\n",
    "        'Wickham': np.char.count(book_chapters, 'Wickham'),\n",
    "        'Bingley': np.char.count(book_chapters, 'Bingley'),\n",
    "        'Jane': np.char.count(book_chapters, 'Jane')},\n",
    "    )\n",
    "# Show the first five rows of the table\n",
    "counts.head()"
   ]
  },
  {
   "cell_type": "markdown",
   "metadata": {},
   "source": [
    "Try running the cell above with shift-Enter.\n",
    "\n",
    "If you get an error, look very carefully at the code - like all programming\n",
    "languages, Python is very fussy about little things like commas and brackets.\n",
    "Check [the original][litchar] to see if you can see the difference between your\n",
    "current code and the original code cell.  Get someone else to have a look, if\n",
    "you get stuck, you will be surprised how much difference it makes."
   ]
  },
  {
   "cell_type": "markdown",
   "metadata": {},
   "source": [
    "## Show the graph\n",
    "\n",
    "Now you have the character counts, you can just run the code below, to show the\n",
    "graphs of the cumulative counts."
   ]
  },
  {
   "cell_type": "code",
   "execution_count": 5,
   "metadata": {},
   "outputs": [
    {
     "data": {
      "image/png": "[encoded data removed]",
      "text/plain": [
       "<Figure size 432x288 with 1 Axes>"
      ]
     },
     "metadata": {},
     "output_type": "display_data"
    }
   ],
   "source": [
    "# Just run this cell.\n",
    "# The cumulative counts:\n",
    "# how many times in Chapter 1, how many times in Chapters 1 and 2, and so on.\n",
    "cum_counts = counts.cumsum()\n",
    "\n",
    "# Add the chapter numbers\n",
    "number_of_chapters = len(book_chapters)\n",
    "cum_counts['Chapter'] = np.arange(number_of_chapters)\n",
    "\n",
    "# Do the plot\n",
    "cum_counts.plot(x='Chapter')\n",
    "plt.title('Cumulative Number of Times Each Name Appears');"
   ]
  },
  {
   "cell_type": "markdown",
   "metadata": {},
   "source": [
    "In the plot above, the horizontal axis shows chapter numbers and the vertical\n",
    "axis shows how many times each character has been mentioned up to and\n",
    "including that chapter."
   ]
  },
  {
   "cell_type": "markdown",
   "metadata": {},
   "source": [
    "## Questions for reflection\n",
    "\n",
    "In roughly what chapter does the Count (Dracula) start to have a big role? How\n",
    "about Van Helsing?\n",
    "\n",
    "Is there something funny about the chapters? You may notice that all the\n",
    "characters seem to start rather late in the chapter sequence.  Investigate to\n",
    "see why this is.  If you are feeling adventurous, you may want to look at the\n",
    "chapter lengths, using the code in [Another Kind of Character][anotherchar],\n",
    "and by looking at the original text at\n",
    "<http://www.gutenberg.org/ebooks/345.txt.utf-8>.  If you can, put an\n",
    "explanation with some code at the end of the notebook to say what you think is\n",
    "going on.\n",
    "\n",
    "[anotherchar]: https://matthew-brett.github.io/cfd2020/intro/Another_Kind_Of_Character.html"
   ]
  },
  {
   "cell_type": "code",
   "execution_count": null,
   "metadata": {},
   "outputs": [],
   "source": [
    "# Maybe you want to put some code here."
   ]
  }
 ],
 "metadata": {
  "jupytext": {
   "formats": "Rmd,ipynb",
   "notebook_metadata_filter": "jupytext_format_version,jupytext_formats,language_info"
  },
  "kernelspec": {
   "display_name": "Python 3",
   "language": "python",
   "name": "python3"
  },
  "language_info": {
   "codemirror_mode": {
    "name": "ipython",
    "version": 3
   },
   "file_extension": ".py",
   "mimetype": "text/x-python",
   "name": "python",
   "nbconvert_exporter": "python",
   "pygments_lexer": "ipython3",
   "version": "3.8.0"
  }
 },
 "nbformat": 4,
 "nbformat_minor": 4
}
